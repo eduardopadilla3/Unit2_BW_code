{
  "nbformat": 4,
  "nbformat_minor": 0,
  "metadata": {
    "colab": {
      "name": "Unit2project.ipynb",
      "provenance": []
    },
    "kernelspec": {
      "name": "python3",
      "display_name": "Python 3"
    }
  },
  "cells": [
    {
      "cell_type": "code",
      "metadata": {
        "id": "YwsMW_VrHZLt",
        "colab_type": "code",
        "colab": {}
      },
      "source": [
        "import pandas as pd\n",
        "from datetime import datetime"
      ],
      "execution_count": null,
      "outputs": []
    },
    {
      "cell_type": "code",
      "metadata": {
        "id": "smd1bMfTNc88",
        "colab_type": "code",
        "colab": {}
      },
      "source": [
        "%%capture\n",
        "import sys\n",
        "\n",
        "if 'google.colab' in sys.modules:\n",
        "    DATA_PATH = 'https://raw.githubusercontent.com/LambdaSchool/DS-Unit-2-Applied-Modeling/master/data/'\n",
        "    !pip install category_encoders==2.*\n",
        "    !pip install eli5\n",
        "    !pip install pdpbox\n",
        "    !pip install shap"
      ],
      "execution_count": null,
      "outputs": []
    },
    {
      "cell_type": "code",
      "metadata": {
        "id": "dn7y5yUcJX9h",
        "colab_type": "code",
        "colab": {}
      },
      "source": [
        "pd.set_option('display.width', 3000)\n",
        "pd.set_option('display.max_columns', 75)\n",
        "pd.set_option('display.max_rows', 3000)"
      ],
      "execution_count": null,
      "outputs": []
    },
    {
      "cell_type": "code",
      "metadata": {
        "id": "_oyaG0kGIN0N",
        "colab_type": "code",
        "colab": {}
      },
      "source": [
        "#load datasets\n",
        "a = pd.read_csv('https://docs.google.com/spreadsheets/d/1cCFkJqgf1RaaIQ1xj-WFF5551DyZbuomGrVQZXuiPOo/gviz/tq?tqx=out:csv')\n",
        "b = pd.read_csv('https://docs.google.com/spreadsheets/d/1P2ReMoAxe0R1bWubm-j87sYQtX_ORYfFWcLrKk5NjXs/gviz/tq?tqx=out:csv')\n",
        "c = pd.read_csv('https://docs.google.com/spreadsheets/d/1pWP-J8Y4oIgCTeaKO6KO-XPobhLhUuFpPqt-uMTFhJs/gviz/tq?tqx=out:csv')\n",
        "d = pd.read_csv('https://docs.google.com/spreadsheets/d/1N2Qp110ijw0QfeaGkqz4LgSCoi_fap-2b8TZ1UOPsKY/gviz/tq?tqx=out:csv')\n",
        "e = pd.read_csv('https://docs.google.com/spreadsheets/d/1_4fRlOznzllkX03lZWOV7oCDA2XuVlBM7SmeGWg854I/gviz/tq?tqx=out:csv')\n",
        "\n",
        "f = pd.read_csv('https://docs.google.com/spreadsheets/d/1IvjLeAlFZmIYz4vi-gYOLISxoNCKf8HEAW28tqOZBIA/gviz/tq?tqx=out:csv')\n",
        "g = pd.read_csv('https://docs.google.com/spreadsheets/d/1Eb5bn_c3CnO_ySI23ftu04SuJOEb0r-aaQr-cn8VJoo/gviz/tq?tqx=out:csv')\n",
        "h = pd.read_csv('https://docs.google.com/spreadsheets/d/1WnLPeMLBYpu2Hg0Cr7IggWNJkpAWYUjPNOAwpexWf-I/gviz/tq?tqx=out:csv')\n",
        "i = pd.read_csv('https://docs.google.com/spreadsheets/d/1_l71V2avlNb7vWg-JwmqT8zU0SkGpuNHJx_X_AWXwFs/gviz/tq?tqx=out:csv')\n",
        "j = pd.read_csv('https://docs.google.com/spreadsheets/d/165W0rSl-dwmPWyCD6VWEWod6LMcZHfhU7oWI4ct78PA/gviz/tq?tqx=out:csv')"
      ],
      "execution_count": 357,
      "outputs": []
    },
    {
      "cell_type": "code",
      "metadata": {
        "id": "rZM64kynJCRr",
        "colab_type": "code",
        "colab": {}
      },
      "source": [
        "#Join all datasets\n",
        "\n",
        "a['Season'] = '2014'\n",
        "b['Season'] = '2015'\n",
        "c['Season'] = '2016'\n",
        "d['Season'] = '2017'\n",
        "e['Season'] = '2018'\n",
        "\n",
        "a['Dates'] = pd.to_datetime(a['date_GMT'])\n",
        "a['Dates'] = a['Dates'].dt.date\n",
        "b['Dates'] = pd.to_datetime(b['date_GMT'])\n",
        "b['Dates'] = b['Dates'].dt.date\n",
        "c['Dates'] = pd.to_datetime(c['date_GMT'])\n",
        "c['Dates'] = c['Dates'].dt.date\n",
        "d['Dates'] = pd.to_datetime(d['date_GMT'])\n",
        "d['Dates'] = d['Dates'].dt.date\n",
        "e['Dates'] = pd.to_datetime(e['date_GMT'])\n",
        "e['Dates'] = e['Dates'].dt.date\n",
        "\n",
        "x = pd.concat([a,b,c,d,e], ignore_index=True)\n",
        "y = pd.concat([f,g,h,i,j], ignore_index=True)\n",
        "\n"
      ],
      "execution_count": 358,
      "outputs": []
    },
    {
      "cell_type": "code",
      "metadata": {
        "id": "oCrAUlRLJiuv",
        "colab_type": "code",
        "colab": {}
      },
      "source": [
        "#Wrangle\n",
        "\n",
        "y['HomeTeam'] = y['HomeTeam'].replace('Tottenham', 'Tottenham Hotspur')\n",
        "y['AwayTeam'] = y['AwayTeam'].replace('Tottenham', 'Tottenham Hotspur')\n",
        "y['HomeTeam'] = y['HomeTeam'].replace('Man United', 'Manchester United')\n",
        "y['AwayTeam'] = y['AwayTeam'].replace('Man United', 'Manchester United')\n",
        "y['HomeTeam'] = y['HomeTeam'].replace('Man City', 'Manchester City')\n",
        "y['AwayTeam'] = y['AwayTeam'].replace('Man City', 'Manchester City')\n",
        "y['HomeTeam'] = y['HomeTeam'].replace('West Ham', 'West Ham United')\n",
        "y['AwayTeam'] = y['AwayTeam'].replace('West Ham', 'West Ham United')\n",
        "y['HomeTeam'] = y['HomeTeam'].replace('Leicester', 'Leicester City')\n",
        "y['AwayTeam'] = y['AwayTeam'].replace('Leicester', 'Leicester City')\n",
        "y['HomeTeam'] = y['HomeTeam'].replace('Newcastle', 'Newcastle United')\n",
        "y['AwayTeam'] = y['AwayTeam'].replace('Newcastle', 'Newcastle United')\n",
        "y['HomeTeam'] = y['HomeTeam'].replace('West Brom', 'West Bromwich Albion')\n",
        "y['AwayTeam'] = y['AwayTeam'].replace('West Brom', 'West Bromwich Albion')\n",
        "y['HomeTeam'] = y['HomeTeam'].replace('Bournemouth', 'AFC Bournemouth')\n",
        "y['AwayTeam'] = y['AwayTeam'].replace('Bournemouth', 'AFC Bournemouth')\n",
        "y['HomeTeam'] = y['HomeTeam'].replace('Swansea', 'Swansea City')\n",
        "y['AwayTeam'] = y['AwayTeam'].replace('Swansea', 'Swansea City')\n",
        "y['HomeTeam'] = y['HomeTeam'].replace('Brighton', 'Brighton & Hove Albion')\n",
        "y['AwayTeam'] = y['AwayTeam'].replace('Brighton', 'Brighton & Hove Albion')\n",
        "y['HomeTeam'] = y['HomeTeam'].replace('Hull', 'Hull City')\n",
        "y['AwayTeam'] = y['AwayTeam'].replace('Hull', 'Hull City')\n",
        "y['HomeTeam'] = y['HomeTeam'].replace('Huddersfield', 'Huddersfield Town')\n",
        "y['AwayTeam'] = y['AwayTeam'].replace('Huddersfield', 'Huddersfield Town')\n",
        "y['HomeTeam'] = y['HomeTeam'].replace('QPR', 'Queens Park Rangers')\n",
        "y['AwayTeam'] = y['AwayTeam'].replace('QPR', 'Queens Park Rangers')\n",
        "y['HomeTeam'] = y['HomeTeam'].replace('Wolves', 'Wolverhampton Wanderers')\n",
        "y['AwayTeam'] = y['AwayTeam'].replace('Wolves', 'Wolverhampton Wanderers')\n",
        "y['HomeTeam'] = y['HomeTeam'].replace('Cardiff', 'Cardiff City')\n",
        "y['AwayTeam'] = y['AwayTeam'].replace('Cardiff', 'Cardiff City')\n",
        "y['HomeTeam'] = y['HomeTeam'].replace('Norwich', 'Norwich City')\n",
        "y['AwayTeam'] = y['AwayTeam'].replace('Norwich', 'Norwich City')\n",
        "y['HomeTeam'] = y['HomeTeam'].replace('Stoke', 'Stoke City')\n",
        "y['AwayTeam'] = y['AwayTeam'].replace('Stoke', 'Stoke City')\n",
        "\n",
        "y['Date'] = pd.to_datetime(y['Date'])\n",
        "y['Date'] = y['Date'].dt.date\n",
        "\n",
        "x.rename(columns={'home_team_goal_count':'FTHG', 'away_team_goal_count_half_time':'HTAG', 'away_team_goal_count':'FTAG', 'home_team_goal_count_half_time':'HTHG', 'home_team_name':'HomeTeam', 'away_team_name':'AwayTeam', 'away_team_corner_count':'AC', 'home_team_corner_count':'HC', 'home_team_yellow_cards':'HY', 'away_team_yellow_cards':'AY'}, inplace=True)\n",
        "y.rename(columns={'BbAv>2.5':'BbAvO2.5', 'BbAv<2.5':'BbAvU2.5'}, inplace=True)\n",
        "y['date']=y['Date']\n",
        "\n",
        "#select features from each dataframe\n",
        "y = y[['Date', 'HomeTeam', 'AwayTeam', 'FTHG', 'FTAG', 'FTR', 'HC', 'AC', 'HY', 'AY', 'HTHG', 'HTAG', 'Referee', 'BbAvH', 'BbAvD', 'BbAvA', 'BbAvO2.5', 'BbAvU2.5']]\n",
        "x = x[['Dates', 'Season', 'HomeTeam', 'AwayTeam', 'FTHG', 'FTAG', 'AC', 'HC', 'HY', 'AY', 'HTHG', 'HTAG', 'Pre-Match PPG (Home)', 'Pre-Match PPG (Away)', 'total_goal_count', 'average_goals_per_match_pre_match', 'average_corners_per_match_pre_match', 'average_cards_per_match_pre_match', 'stadium_name' ]]\n",
        "y = y.dropna()\n",
        "\n",
        "#create year column\n",
        "x['Year'] = pd.to_datetime(x['Dates']).dt.to_period('Y')\n",
        "y['Year'] = pd.to_datetime(y['Date']).dt.to_period('Y')\n",
        "\n",
        "#convert floats to int\n",
        "y['FTHG'] = y['FTHG'].astype(int)\n",
        "y['FTAG'] = y['FTAG'].astype(int)\n",
        "y['HC'] = y['HC'].astype(int)\n",
        "y['AC'] = y['AC'].astype(int)\n",
        "y['HY'] = y['HY'].astype(int)\n",
        "y['AY'] = y['AY'].astype(int)\n",
        "y['HTHG'] = y['HTHG'].astype(int)\n",
        "y['HTAG'] = y['HTAG'].astype(int)\n",
        "\n",
        "#merge x any y dataframes\n",
        "df = pd.merge(x, y, on=['Year', 'AwayTeam', 'HomeTeam', 'FTHG', 'FTAG', 'HTHG', 'HTAG'])\n",
        "df = df.drop(df.index[[705,707,1115,1117,664,666,1428,1430,720,722,1061,1063]])\n",
        "df = df.reset_index(drop=True)\n",
        "\n",
        "#final feature selection\n",
        "df = df[['Season', 'HomeTeam', 'AwayTeam', 'Pre-Match PPG (Home)', 'Pre-Match PPG (Away)', 'total_goal_count', 'average_goals_per_match_pre_match', 'average_corners_per_match_pre_match', 'stadium_name', 'Referee', 'BbAvH', 'BbAvA', 'BbAvO2.5', 'BbAvU2.5']]\n",
        "df['OU25']= [1 if x > 2.5 else 0 for x in df['total_goal_count']]"
      ],
      "execution_count": 237,
      "outputs": []
    },
    {
      "cell_type": "code",
      "metadata": {
        "id": "obXF5M3gKe2_",
        "colab_type": "code",
        "colab": {
          "base_uri": "https://localhost:8080/",
          "height": 413
        },
        "outputId": "dc26acb6-1709-4bd2-d7cb-0ab1a44ef0ed"
      },
      "source": [
        "df.head()"
      ],
      "execution_count": 238,
      "outputs": [
        {
          "output_type": "execute_result",
          "data": {
            "text/html": [
              "<div>\n",
              "<style scoped>\n",
              "    .dataframe tbody tr th:only-of-type {\n",
              "        vertical-align: middle;\n",
              "    }\n",
              "\n",
              "    .dataframe tbody tr th {\n",
              "        vertical-align: top;\n",
              "    }\n",
              "\n",
              "    .dataframe thead th {\n",
              "        text-align: right;\n",
              "    }\n",
              "</style>\n",
              "<table border=\"1\" class=\"dataframe\">\n",
              "  <thead>\n",
              "    <tr style=\"text-align: right;\">\n",
              "      <th></th>\n",
              "      <th>Season</th>\n",
              "      <th>HomeTeam</th>\n",
              "      <th>AwayTeam</th>\n",
              "      <th>Pre-Match PPG (Home)</th>\n",
              "      <th>Pre-Match PPG (Away)</th>\n",
              "      <th>total_goal_count</th>\n",
              "      <th>average_goals_per_match_pre_match</th>\n",
              "      <th>average_corners_per_match_pre_match</th>\n",
              "      <th>stadium_name</th>\n",
              "      <th>Referee</th>\n",
              "      <th>BbAvH</th>\n",
              "      <th>BbAvA</th>\n",
              "      <th>BbAvO2.5</th>\n",
              "      <th>BbAvU2.5</th>\n",
              "      <th>OU25</th>\n",
              "    </tr>\n",
              "  </thead>\n",
              "  <tbody>\n",
              "    <tr>\n",
              "      <th>0</th>\n",
              "      <td>2014</td>\n",
              "      <td>Manchester United</td>\n",
              "      <td>Swansea City</td>\n",
              "      <td>0.0</td>\n",
              "      <td>0.0</td>\n",
              "      <td>3</td>\n",
              "      <td>0.0</td>\n",
              "      <td>0.0</td>\n",
              "      <td>Old Trafford</td>\n",
              "      <td>M Dean</td>\n",
              "      <td>1.34</td>\n",
              "      <td>9.32</td>\n",
              "      <td>1.71</td>\n",
              "      <td>2.13</td>\n",
              "      <td>1</td>\n",
              "    </tr>\n",
              "    <tr>\n",
              "      <th>1</th>\n",
              "      <td>2014</td>\n",
              "      <td>Leicester City</td>\n",
              "      <td>Everton</td>\n",
              "      <td>0.0</td>\n",
              "      <td>0.0</td>\n",
              "      <td>4</td>\n",
              "      <td>0.0</td>\n",
              "      <td>0.0</td>\n",
              "      <td>King Power Stadium</td>\n",
              "      <td>M Jones</td>\n",
              "      <td>3.06</td>\n",
              "      <td>2.36</td>\n",
              "      <td>2.00</td>\n",
              "      <td>1.80</td>\n",
              "      <td>1</td>\n",
              "    </tr>\n",
              "    <tr>\n",
              "      <th>2</th>\n",
              "      <td>2014</td>\n",
              "      <td>Stoke City</td>\n",
              "      <td>Aston Villa</td>\n",
              "      <td>0.0</td>\n",
              "      <td>0.0</td>\n",
              "      <td>1</td>\n",
              "      <td>0.0</td>\n",
              "      <td>0.0</td>\n",
              "      <td>Bet365 Stadium</td>\n",
              "      <td>A Taylor</td>\n",
              "      <td>1.92</td>\n",
              "      <td>4.27</td>\n",
              "      <td>2.31</td>\n",
              "      <td>1.60</td>\n",
              "      <td>0</td>\n",
              "    </tr>\n",
              "    <tr>\n",
              "      <th>3</th>\n",
              "      <td>2014</td>\n",
              "      <td>West Bromwich Albion</td>\n",
              "      <td>Sunderland</td>\n",
              "      <td>0.0</td>\n",
              "      <td>0.0</td>\n",
              "      <td>4</td>\n",
              "      <td>0.0</td>\n",
              "      <td>0.0</td>\n",
              "      <td>The Hawthorns (West Bromwich)</td>\n",
              "      <td>N Swarbrick</td>\n",
              "      <td>2.23</td>\n",
              "      <td>3.34</td>\n",
              "      <td>2.14</td>\n",
              "      <td>1.70</td>\n",
              "      <td>1</td>\n",
              "    </tr>\n",
              "    <tr>\n",
              "      <th>4</th>\n",
              "      <td>2014</td>\n",
              "      <td>West Ham United</td>\n",
              "      <td>Tottenham Hotspur</td>\n",
              "      <td>0.0</td>\n",
              "      <td>0.0</td>\n",
              "      <td>1</td>\n",
              "      <td>0.0</td>\n",
              "      <td>0.0</td>\n",
              "      <td>Boleyn Ground (London)</td>\n",
              "      <td>C Foy</td>\n",
              "      <td>3.74</td>\n",
              "      <td>2.03</td>\n",
              "      <td>1.98</td>\n",
              "      <td>1.82</td>\n",
              "      <td>0</td>\n",
              "    </tr>\n",
              "  </tbody>\n",
              "</table>\n",
              "</div>"
            ],
            "text/plain": [
              "  Season              HomeTeam           AwayTeam  Pre-Match PPG (Home)  Pre-Match PPG (Away)  total_goal_count  average_goals_per_match_pre_match  average_corners_per_match_pre_match                   stadium_name      Referee  BbAvH  BbAvA  BbAvO2.5  BbAvU2.5  OU25\n",
              "0   2014     Manchester United       Swansea City                   0.0                   0.0                 3                                0.0                                  0.0                   Old Trafford       M Dean   1.34   9.32      1.71      2.13     1\n",
              "1   2014        Leicester City            Everton                   0.0                   0.0                 4                                0.0                                  0.0             King Power Stadium      M Jones   3.06   2.36      2.00      1.80     1\n",
              "2   2014            Stoke City        Aston Villa                   0.0                   0.0                 1                                0.0                                  0.0                 Bet365 Stadium     A Taylor   1.92   4.27      2.31      1.60     0\n",
              "3   2014  West Bromwich Albion         Sunderland                   0.0                   0.0                 4                                0.0                                  0.0  The Hawthorns (West Bromwich)  N Swarbrick   2.23   3.34      2.14      1.70     1\n",
              "4   2014       West Ham United  Tottenham Hotspur                   0.0                   0.0                 1                                0.0                                  0.0         Boleyn Ground (London)        C Foy   3.74   2.03      1.98      1.82     0"
            ]
          },
          "metadata": {
            "tags": []
          },
          "execution_count": 238
        }
      ]
    },
    {
      "cell_type": "code",
      "metadata": {
        "id": "Wq0fDNIWKh4B",
        "colab_type": "code",
        "colab": {}
      },
      "source": [
        "df1=df.drop(['total_goal_count'], axis=1)"
      ],
      "execution_count": 239,
      "outputs": []
    },
    {
      "cell_type": "code",
      "metadata": {
        "id": "-SbPdFa-Ku9Z",
        "colab_type": "code",
        "colab": {
          "base_uri": "https://localhost:8080/",
          "height": 208
        },
        "outputId": "1725acd2-2595-4800-f010-7aa9ae9fe44d"
      },
      "source": [
        "!pip install category_encoders==2.*"
      ],
      "execution_count": null,
      "outputs": [
        {
          "output_type": "stream",
          "text": [
            "Requirement already satisfied: category_encoders==2.* in /usr/local/lib/python3.6/dist-packages (2.2.2)\n",
            "Requirement already satisfied: scikit-learn>=0.20.0 in /usr/local/lib/python3.6/dist-packages (from category_encoders==2.*) (0.22.2.post1)\n",
            "Requirement already satisfied: patsy>=0.5.1 in /usr/local/lib/python3.6/dist-packages (from category_encoders==2.*) (0.5.1)\n",
            "Requirement already satisfied: numpy>=1.14.0 in /usr/local/lib/python3.6/dist-packages (from category_encoders==2.*) (1.18.5)\n",
            "Requirement already satisfied: scipy>=1.0.0 in /usr/local/lib/python3.6/dist-packages (from category_encoders==2.*) (1.4.1)\n",
            "Requirement already satisfied: statsmodels>=0.9.0 in /usr/local/lib/python3.6/dist-packages (from category_encoders==2.*) (0.10.2)\n",
            "Requirement already satisfied: pandas>=0.21.1 in /usr/local/lib/python3.6/dist-packages (from category_encoders==2.*) (1.0.5)\n",
            "Requirement already satisfied: joblib>=0.11 in /usr/local/lib/python3.6/dist-packages (from scikit-learn>=0.20.0->category_encoders==2.*) (0.16.0)\n",
            "Requirement already satisfied: six in /usr/local/lib/python3.6/dist-packages (from patsy>=0.5.1->category_encoders==2.*) (1.15.0)\n",
            "Requirement already satisfied: python-dateutil>=2.6.1 in /usr/local/lib/python3.6/dist-packages (from pandas>=0.21.1->category_encoders==2.*) (2.8.1)\n",
            "Requirement already satisfied: pytz>=2017.2 in /usr/local/lib/python3.6/dist-packages (from pandas>=0.21.1->category_encoders==2.*) (2018.9)\n"
          ],
          "name": "stdout"
        }
      ]
    },
    {
      "cell_type": "code",
      "metadata": {
        "id": "_y7eVviLKltr",
        "colab_type": "code",
        "colab": {}
      },
      "source": [
        "from sklearn.ensemble import RandomForestClassifier\n",
        "from sklearn.impute import SimpleImputer\n",
        "from sklearn.pipeline import Pipeline\n",
        "from sklearn.feature_selection import SelectKBest\n",
        "from sklearn.preprocessing import StandardScaler\n",
        "from sklearn.metrics import classification_report\n",
        "import category_encoders as ce\n",
        "import numpy as np\n",
        "from sklearn.model_selection import cross_val_score\n",
        "from sklearn.pipeline import make_pipeline\n",
        "from sklearn.ensemble import GradientBoostingRegressor\n",
        "from sklearn.metrics import accuracy_score\n",
        "from sklearn.linear_model import LogisticRegression"
      ],
      "execution_count": 262,
      "outputs": []
    },
    {
      "cell_type": "code",
      "metadata": {
        "id": "FnIh1wrAK5l9",
        "colab_type": "code",
        "colab": {}
      },
      "source": [
        "#Split train and test datasets\n",
        "\n",
        "X = df1\n",
        "X_train = df1.query('Season == \"2014\" | Season==\"2015\" | Season==\"2016\"')\n",
        "X_val = df1.query('Season == \"2017\"')\n",
        "X_test = df1.query('Season==\"2018\"')\n",
        "y_train = X_train.pop('OU25')\n",
        "y_val = X_val.pop('OU25')\n",
        "y_test = X_test.pop('OU25')"
      ],
      "execution_count": 240,
      "outputs": []
    },
    {
      "cell_type": "code",
      "metadata": {
        "id": "BAWgyZQZLGzg",
        "colab_type": "code",
        "colab": {
          "base_uri": "https://localhost:8080/",
          "height": 121
        },
        "outputId": "b187fb14-3c15-41b7-87a8-bdc89f97fc30"
      },
      "source": [
        "#confirm size of datasets\n",
        "print(X_train.shape)\n",
        "print(X_val.shape)\n",
        "print(X_test.shape)\n",
        "print(y_train.shape)\n",
        "print(y_val.shape)\n",
        "print(y_test.shape)"
      ],
      "execution_count": 241,
      "outputs": [
        {
          "output_type": "stream",
          "text": [
            "(1140, 13)\n",
            "(380, 13)\n",
            "(380, 13)\n",
            "(1140,)\n",
            "(380,)\n",
            "(380,)\n"
          ],
          "name": "stdout"
        }
      ]
    },
    {
      "cell_type": "code",
      "metadata": {
        "id": "JvjuHzoY7pBm",
        "colab_type": "code",
        "colab": {
          "base_uri": "https://localhost:8080/",
          "height": 69
        },
        "outputId": "7820296f-4d75-4ca2-9438-f8c2c54b3c98"
      },
      "source": [
        "# Baseline\n",
        "y_train.value_counts(normalize=True)"
      ],
      "execution_count": 242,
      "outputs": [
        {
          "output_type": "execute_result",
          "data": {
            "text/plain": [
              "1    0.518421\n",
              "0    0.481579\n",
              "Name: OU25, dtype: float64"
            ]
          },
          "metadata": {
            "tags": []
          },
          "execution_count": 242
        }
      ]
    },
    {
      "cell_type": "code",
      "metadata": {
        "id": "kulW7BJWN-1N",
        "colab_type": "code",
        "colab": {
          "base_uri": "https://localhost:8080/",
          "height": 156
        },
        "outputId": "639fbf64-eb42-4d96-e826-a636187f610c"
      },
      "source": [
        "transformers = make_pipeline(\n",
        "    ce.OrdinalEncoder(), \n",
        "    SimpleImputer(strategy='median')\n",
        ")\n",
        "\n",
        "X_train_transformed = transformers.fit_transform(X_train)\n",
        "X_val_transformed = transformers.transform(X_val)\n",
        "\n",
        "model = RandomForestClassifier(n_estimators=100, random_state=42, n_jobs=-1)\n",
        "model.fit(X_train_transformed, y_train)"
      ],
      "execution_count": 245,
      "outputs": [
        {
          "output_type": "execute_result",
          "data": {
            "text/plain": [
              "RandomForestClassifier(bootstrap=True, ccp_alpha=0.0, class_weight=None,\n",
              "                       criterion='gini', max_depth=None, max_features='auto',\n",
              "                       max_leaf_nodes=None, max_samples=None,\n",
              "                       min_impurity_decrease=0.0, min_impurity_split=None,\n",
              "                       min_samples_leaf=1, min_samples_split=2,\n",
              "                       min_weight_fraction_leaf=0.0, n_estimators=100,\n",
              "                       n_jobs=-1, oob_score=False, random_state=42, verbose=0,\n",
              "                       warm_start=False)"
            ]
          },
          "metadata": {
            "tags": []
          },
          "execution_count": 245
        }
      ]
    },
    {
      "cell_type": "code",
      "metadata": {
        "id": "MSN9mk4oNBDK",
        "colab_type": "code",
        "colab": {
          "base_uri": "https://localhost:8080/",
          "height": 399
        },
        "outputId": "3f7f62c4-829d-48d8-9979-23fd8463d447"
      },
      "source": [
        "import eli5\n",
        "from eli5.sklearn import PermutationImportance\n",
        "\n",
        "permuter = PermutationImportance(\n",
        "    model,\n",
        "    scoring='accuracy',\n",
        "    n_iter=5,\n",
        "    random_state=42\n",
        ")\n",
        "\n",
        "permuter.fit(X_val_transformed, y_val)"
      ],
      "execution_count": 246,
      "outputs": [
        {
          "output_type": "execute_result",
          "data": {
            "text/plain": [
              "PermutationImportance(cv='prefit',\n",
              "                      estimator=RandomForestClassifier(bootstrap=True,\n",
              "                                                       ccp_alpha=0.0,\n",
              "                                                       class_weight=None,\n",
              "                                                       criterion='gini',\n",
              "                                                       max_depth=None,\n",
              "                                                       max_features='auto',\n",
              "                                                       max_leaf_nodes=None,\n",
              "                                                       max_samples=None,\n",
              "                                                       min_impurity_decrease=0.0,\n",
              "                                                       min_impurity_split=None,\n",
              "                                                       min_samples_leaf=1,\n",
              "                                                       min_samples_split=2,\n",
              "                                                       min_weight_fraction_leaf=0.0,\n",
              "                                                       n_estimators=100,\n",
              "                                                       n_jobs=-1,\n",
              "                                                       oob_score=False,\n",
              "                                                       random_state=42,\n",
              "                                                       verbose=0,\n",
              "                                                       warm_start=False),\n",
              "                      n_iter=5, random_state=42, refit=True,\n",
              "                      scoring='accuracy')"
            ]
          },
          "metadata": {
            "tags": []
          },
          "execution_count": 246
        }
      ]
    },
    {
      "cell_type": "code",
      "metadata": {
        "id": "lOp-U9X2ONai",
        "colab_type": "code",
        "colab": {
          "base_uri": "https://localhost:8080/",
          "height": 260
        },
        "outputId": "1972f6ce-369d-419d-d6df-233cb10bdfdb"
      },
      "source": [
        "eli5.show_weights(\n",
        "    permuter,\n",
        "    top=None,\n",
        "    feature_names=X_test.columns.tolist()\n",
        ")"
      ],
      "execution_count": 247,
      "outputs": [
        {
          "output_type": "execute_result",
          "data": {
            "text/html": [
              "\n",
              "    <style>\n",
              "    table.eli5-weights tr:hover {\n",
              "        filter: brightness(85%);\n",
              "    }\n",
              "</style>\n",
              "\n",
              "\n",
              "\n",
              "    \n",
              "\n",
              "    \n",
              "\n",
              "    \n",
              "\n",
              "    \n",
              "\n",
              "    \n",
              "\n",
              "    \n",
              "\n",
              "\n",
              "    \n",
              "\n",
              "    \n",
              "\n",
              "    \n",
              "\n",
              "    \n",
              "\n",
              "    \n",
              "\n",
              "    \n",
              "\n",
              "\n",
              "    \n",
              "\n",
              "    \n",
              "\n",
              "    \n",
              "\n",
              "    \n",
              "\n",
              "    \n",
              "        <table class=\"eli5-weights eli5-feature-importances\" style=\"border-collapse: collapse; border: none; margin-top: 0em; table-layout: auto;\">\n",
              "    <thead>\n",
              "    <tr style=\"border: none;\">\n",
              "        <th style=\"padding: 0 1em 0 0.5em; text-align: right; border: none;\">Weight</th>\n",
              "        <th style=\"padding: 0 0.5em 0 0.5em; text-align: left; border: none;\">Feature</th>\n",
              "    </tr>\n",
              "    </thead>\n",
              "    <tbody>\n",
              "    \n",
              "        <tr style=\"background-color: hsl(120, 100.00%, 80.00%); border: none;\">\n",
              "            <td style=\"padding: 0 1em 0 0.5em; text-align: right; border: none;\">\n",
              "                0.0321\n",
              "                \n",
              "                    &plusmn; 0.0356\n",
              "                \n",
              "            </td>\n",
              "            <td style=\"padding: 0 0.5em 0 0.5em; text-align: left; border: none;\">\n",
              "                BbAvO2.5\n",
              "            </td>\n",
              "        </tr>\n",
              "    \n",
              "        <tr style=\"background-color: hsl(120, 100.00%, 91.16%); border: none;\">\n",
              "            <td style=\"padding: 0 1em 0 0.5em; text-align: right; border: none;\">\n",
              "                0.0100\n",
              "                \n",
              "                    &plusmn; 0.0297\n",
              "                \n",
              "            </td>\n",
              "            <td style=\"padding: 0 0.5em 0 0.5em; text-align: left; border: none;\">\n",
              "                Pre-Match PPG (Home)\n",
              "            </td>\n",
              "        </tr>\n",
              "    \n",
              "        <tr style=\"background-color: hsl(120, 100.00%, 92.51%); border: none;\">\n",
              "            <td style=\"padding: 0 1em 0 0.5em; text-align: right; border: none;\">\n",
              "                0.0079\n",
              "                \n",
              "                    &plusmn; 0.0448\n",
              "                \n",
              "            </td>\n",
              "            <td style=\"padding: 0 0.5em 0 0.5em; text-align: left; border: none;\">\n",
              "                BbAvA\n",
              "            </td>\n",
              "        </tr>\n",
              "    \n",
              "        <tr style=\"background-color: hsl(120, 100.00%, 94.76%); border: none;\">\n",
              "            <td style=\"padding: 0 1em 0 0.5em; text-align: right; border: none;\">\n",
              "                0.0047\n",
              "                \n",
              "                    &plusmn; 0.0227\n",
              "                \n",
              "            </td>\n",
              "            <td style=\"padding: 0 0.5em 0 0.5em; text-align: left; border: none;\">\n",
              "                BbAvH\n",
              "            </td>\n",
              "        </tr>\n",
              "    \n",
              "        <tr style=\"background-color: hsl(0, 100.00%, 100.00%); border: none;\">\n",
              "            <td style=\"padding: 0 1em 0 0.5em; text-align: right; border: none;\">\n",
              "                0\n",
              "                \n",
              "                    &plusmn; 0.0000\n",
              "                \n",
              "            </td>\n",
              "            <td style=\"padding: 0 0.5em 0 0.5em; text-align: left; border: none;\">\n",
              "                Season\n",
              "            </td>\n",
              "        </tr>\n",
              "    \n",
              "        <tr style=\"background-color: hsl(0, 100.00%, 98.17%); border: none;\">\n",
              "            <td style=\"padding: 0 1em 0 0.5em; text-align: right; border: none;\">\n",
              "                -0.0011\n",
              "                \n",
              "                    &plusmn; 0.0227\n",
              "                \n",
              "            </td>\n",
              "            <td style=\"padding: 0 0.5em 0 0.5em; text-align: left; border: none;\">\n",
              "                Pre-Match PPG (Away)\n",
              "            </td>\n",
              "        </tr>\n",
              "    \n",
              "        <tr style=\"background-color: hsl(0, 100.00%, 92.16%); border: none;\">\n",
              "            <td style=\"padding: 0 1em 0 0.5em; text-align: right; border: none;\">\n",
              "                -0.0084\n",
              "                \n",
              "                    &plusmn; 0.0289\n",
              "                \n",
              "            </td>\n",
              "            <td style=\"padding: 0 0.5em 0 0.5em; text-align: left; border: none;\">\n",
              "                AwayTeam\n",
              "            </td>\n",
              "        </tr>\n",
              "    \n",
              "        <tr style=\"background-color: hsl(0, 100.00%, 89.59%); border: none;\">\n",
              "            <td style=\"padding: 0 1em 0 0.5em; text-align: right; border: none;\">\n",
              "                -0.0126\n",
              "                \n",
              "                    &plusmn; 0.0158\n",
              "                \n",
              "            </td>\n",
              "            <td style=\"padding: 0 0.5em 0 0.5em; text-align: left; border: none;\">\n",
              "                BbAvU2.5\n",
              "            </td>\n",
              "        </tr>\n",
              "    \n",
              "        <tr style=\"background-color: hsl(0, 100.00%, 88.12%); border: none;\">\n",
              "            <td style=\"padding: 0 1em 0 0.5em; text-align: right; border: none;\">\n",
              "                -0.0153\n",
              "                \n",
              "                    &plusmn; 0.0279\n",
              "                \n",
              "            </td>\n",
              "            <td style=\"padding: 0 0.5em 0 0.5em; text-align: left; border: none;\">\n",
              "                average_corners_per_match_pre_match\n",
              "            </td>\n",
              "        </tr>\n",
              "    \n",
              "        <tr style=\"background-color: hsl(0, 100.00%, 88.12%); border: none;\">\n",
              "            <td style=\"padding: 0 1em 0 0.5em; text-align: right; border: none;\">\n",
              "                -0.0153\n",
              "                \n",
              "                    &plusmn; 0.0154\n",
              "                \n",
              "            </td>\n",
              "            <td style=\"padding: 0 0.5em 0 0.5em; text-align: left; border: none;\">\n",
              "                HomeTeam\n",
              "            </td>\n",
              "        </tr>\n",
              "    \n",
              "        <tr style=\"background-color: hsl(0, 100.00%, 86.99%); border: none;\">\n",
              "            <td style=\"padding: 0 1em 0 0.5em; text-align: right; border: none;\">\n",
              "                -0.0174\n",
              "                \n",
              "                    &plusmn; 0.0178\n",
              "                \n",
              "            </td>\n",
              "            <td style=\"padding: 0 0.5em 0 0.5em; text-align: left; border: none;\">\n",
              "                stadium_name\n",
              "            </td>\n",
              "        </tr>\n",
              "    \n",
              "        <tr style=\"background-color: hsl(0, 100.00%, 84.86%); border: none;\">\n",
              "            <td style=\"padding: 0 1em 0 0.5em; text-align: right; border: none;\">\n",
              "                -0.0216\n",
              "                \n",
              "                    &plusmn; 0.0365\n",
              "                \n",
              "            </td>\n",
              "            <td style=\"padding: 0 0.5em 0 0.5em; text-align: left; border: none;\">\n",
              "                average_goals_per_match_pre_match\n",
              "            </td>\n",
              "        </tr>\n",
              "    \n",
              "        <tr style=\"background-color: hsl(0, 100.00%, 83.09%); border: none;\">\n",
              "            <td style=\"padding: 0 1em 0 0.5em; text-align: right; border: none;\">\n",
              "                -0.0253\n",
              "                \n",
              "                    &plusmn; 0.0158\n",
              "                \n",
              "            </td>\n",
              "            <td style=\"padding: 0 0.5em 0 0.5em; text-align: left; border: none;\">\n",
              "                Referee\n",
              "            </td>\n",
              "        </tr>\n",
              "    \n",
              "    \n",
              "    </tbody>\n",
              "</table>\n",
              "    \n",
              "\n",
              "    \n",
              "\n",
              "\n",
              "    \n",
              "\n",
              "    \n",
              "\n",
              "    \n",
              "\n",
              "    \n",
              "\n",
              "    \n",
              "\n",
              "    \n",
              "\n",
              "\n",
              "\n"
            ],
            "text/plain": [
              "<IPython.core.display.HTML object>"
            ]
          },
          "metadata": {
            "tags": []
          },
          "execution_count": 247
        }
      ]
    },
    {
      "cell_type": "code",
      "metadata": {
        "id": "YSi4THTNPeC6",
        "colab_type": "code",
        "colab": {
          "base_uri": "https://localhost:8080/",
          "height": 485
        },
        "outputId": "8fdc7d9e-1a1f-41a6-bbde-fc73ae9b9973"
      },
      "source": [
        "model1 = make_pipeline(\n",
        "    ce.OrdinalEncoder(),\n",
        "    SimpleImputer(),\n",
        "    XGBClassifier(n_estimators=20, random_state=42, n_jobs=-1)\n",
        ")\n",
        "\n",
        "model1.fit(X_train, y_train)"
      ],
      "execution_count": 248,
      "outputs": [
        {
          "output_type": "execute_result",
          "data": {
            "text/plain": [
              "Pipeline(memory=None,\n",
              "         steps=[('ordinalencoder',\n",
              "                 OrdinalEncoder(cols=['Season', 'HomeTeam', 'AwayTeam',\n",
              "                                      'stadium_name', 'Referee'],\n",
              "                                drop_invariant=False, handle_missing='value',\n",
              "                                handle_unknown='value',\n",
              "                                mapping=[{'col': 'Season',\n",
              "                                          'data_type': dtype('O'),\n",
              "                                          'mapping': 2014    1\n",
              "2015    2\n",
              "2016    3\n",
              "NaN    -2\n",
              "dtype: int64},\n",
              "                                         {'col': 'HomeTeam',\n",
              "                                          'data_type': dtype('O'),\n",
              "                                          'mapping': Manchester United        1...\n",
              "                 XGBClassifier(base_score=0.5, booster='gbtree',\n",
              "                               colsample_bylevel=1, colsample_bynode=1,\n",
              "                               colsample_bytree=1, gamma=0, learning_rate=0.1,\n",
              "                               max_delta_step=0, max_depth=3,\n",
              "                               min_child_weight=1, missing=None,\n",
              "                               n_estimators=20, n_jobs=-1, nthread=None,\n",
              "                               objective='binary:logistic', random_state=42,\n",
              "                               reg_alpha=0, reg_lambda=1, scale_pos_weight=1,\n",
              "                               seed=None, silent=None, subsample=1,\n",
              "                               verbosity=1))],\n",
              "         verbose=False)"
            ]
          },
          "metadata": {
            "tags": []
          },
          "execution_count": 248
        }
      ]
    },
    {
      "cell_type": "code",
      "metadata": {
        "id": "4nJxfRJgPfde",
        "colab_type": "code",
        "colab": {
          "base_uri": "https://localhost:8080/",
          "height": 69
        },
        "outputId": "170bc8d3-3401-487a-bc92-378f4e905c8b"
      },
      "source": [
        "print('Training Accuracy:', model1.score(X_train, y_train))\n",
        "print('Validation Accuracy:', model1.score(X_val, y_val))\n",
        "print('Test Accuracy:', model1.score(X_test, y_test))\n"
      ],
      "execution_count": 250,
      "outputs": [
        {
          "output_type": "stream",
          "text": [
            "Training Accuracy: 0.6491228070175439\n",
            "Validation Accuracy: 0.531578947368421\n",
            "Test Accuracy: 0.5421052631578948\n"
          ],
          "name": "stdout"
        }
      ]
    },
    {
      "cell_type": "code",
      "metadata": {
        "id": "fNz9vRvEPKcn",
        "colab_type": "code",
        "colab": {
          "base_uri": "https://localhost:8080/",
          "height": 69
        },
        "outputId": "b063c71c-48c3-45db-8587-22ab0221b014"
      },
      "source": [
        "model2 = Pipeline([\n",
        "                  ('oe', ce.OrdinalEncoder()),\n",
        "                  ('impute', SimpleImputer(strategy='mean')),\n",
        "                  ('classifier', RandomForestClassifier(random_state=42, n_jobs=-1, min_samples_leaf=2, n_estimators=55))\n",
        "])\n",
        "\n",
        "model2.fit(X_train, y_train)\n",
        "\n",
        "print('training accuracy:', model2.score(X_train, y_train))\n",
        "print('validation accuracy:', model2.score(X_val, y_val))\n",
        "print('test accuracy:', model2.score(X_test, y_test))"
      ],
      "execution_count": 251,
      "outputs": [
        {
          "output_type": "stream",
          "text": [
            "training accuracy: 0.9964912280701754\n",
            "validation accuracy: 0.531578947368421\n",
            "test accuracy: 0.5421052631578948\n"
          ],
          "name": "stdout"
        }
      ]
    },
    {
      "cell_type": "code",
      "metadata": {
        "id": "mrrsA4acmZqX",
        "colab_type": "code",
        "colab": {
          "base_uri": "https://localhost:8080/",
          "height": 69
        },
        "outputId": "8d47f6d1-d0c7-44e8-c1d6-b449fb367a9d"
      },
      "source": [
        "model3 = make_pipeline(\n",
        "    ce.OrdinalEncoder(),\n",
        "    SimpleImputer(),\n",
        "    LogisticRegression(max_iter=300, random_state=42)\n",
        ")\n",
        "\n",
        "model3.fit(X_train, y_train)\n",
        "\n",
        "print('Training Accuracy:', model3.score(X_train, y_train))\n",
        "print('Validation Accuracy:', model3.score(X_val, y_val))\n",
        "print('Test Accuracy:', model3.score(X_test, y_test))\n"
      ],
      "execution_count": 256,
      "outputs": [
        {
          "output_type": "stream",
          "text": [
            "Training Accuracy: 0.5850877192982457\n",
            "Validation Accuracy: 0.5657894736842105\n",
            "Test Accuracy: 0.5394736842105263\n"
          ],
          "name": "stdout"
        }
      ]
    },
    {
      "cell_type": "code",
      "metadata": {
        "id": "GQYiYATWnNer",
        "colab_type": "code",
        "colab": {}
      },
      "source": [
        ""
      ],
      "execution_count": null,
      "outputs": []
    },
    {
      "cell_type": "code",
      "metadata": {
        "id": "syU0-ZkPnOEA",
        "colab_type": "code",
        "colab": {}
      },
      "source": [
        ""
      ],
      "execution_count": null,
      "outputs": []
    },
    {
      "cell_type": "code",
      "metadata": {
        "id": "Hoxsv4JkbY4v",
        "colab_type": "code",
        "colab": {}
      },
      "source": [
        "#remove negative features\n",
        "X_train = X_train[['Season', 'Pre-Match PPG (Home)', 'Pre-Match PPG (Away)', 'BbAvH', 'BbAvA', 'BbAvO2.5', 'BbAvU2.5']]\n",
        "X_val = X_val[['Season', 'Pre-Match PPG (Home)', 'Pre-Match PPG (Away)', 'BbAvH', 'BbAvA', 'BbAvO2.5', 'BbAvU2.5']]\n",
        "X_test = X_test[['Season', 'Pre-Match PPG (Home)', 'Pre-Match PPG (Away)', 'BbAvH', 'BbAvA', 'BbAvO2.5', 'BbAvU2.5']]"
      ],
      "execution_count": 257,
      "outputs": []
    },
    {
      "cell_type": "code",
      "metadata": {
        "id": "UPUkzrKXcIah",
        "colab_type": "code",
        "colab": {
          "base_uri": "https://localhost:8080/",
          "height": 69
        },
        "outputId": "bcac7401-b085-47d6-8e8a-e4b10cdd6acc"
      },
      "source": [
        "model1 = make_pipeline(\n",
        "    ce.OrdinalEncoder(),\n",
        "    SimpleImputer(),\n",
        "    XGBClassifier(n_estimators=2, random_state=42, n_jobs=-1)\n",
        ")\n",
        "\n",
        "model1.fit(X_train, y_train)\n",
        "\n",
        "print('Training Accuracy:', model1.score(X_train, y_train))\n",
        "print('Validation Accuracy:', model1.score(X_val, y_val))\n",
        "print('Test Accuracy:', model1.score(X_test, y_test))\n"
      ],
      "execution_count": 258,
      "outputs": [
        {
          "output_type": "stream",
          "text": [
            "Training Accuracy: 0.5885964912280702\n",
            "Validation Accuracy: 0.5473684210526316\n",
            "Test Accuracy: 0.5657894736842105\n"
          ],
          "name": "stdout"
        }
      ]
    },
    {
      "cell_type": "code",
      "metadata": {
        "id": "sKxOJvDgcW1d",
        "colab_type": "code",
        "colab": {
          "base_uri": "https://localhost:8080/",
          "height": 69
        },
        "outputId": "691dc78b-af5d-4282-ec4f-99e2c5ccc858"
      },
      "source": [
        "model2 = Pipeline([\n",
        "                  ('oe', ce.OrdinalEncoder()),\n",
        "                  ('impute', SimpleImputer(strategy='mean')),\n",
        "                  ('classifier', RandomForestClassifier(random_state=42, n_jobs=-1))\n",
        "])\n",
        "\n",
        "model2.fit(X_train, y_train)\n",
        "\n",
        "print('training accuracy:', model2.score(X_train, y_train))\n",
        "print('validation accuracy:', model2.score(X_val, y_val))\n",
        "print('test accuracy:', model2.score(X_test, y_test))"
      ],
      "execution_count": 261,
      "outputs": [
        {
          "output_type": "stream",
          "text": [
            "training accuracy: 1.0\n",
            "validation accuracy: 0.5526315789473685\n",
            "test accuracy: 0.5473684210526316\n"
          ],
          "name": "stdout"
        }
      ]
    },
    {
      "cell_type": "code",
      "metadata": {
        "id": "V1LN-8fddI2_",
        "colab_type": "code",
        "colab": {
          "base_uri": "https://localhost:8080/",
          "height": 156
        },
        "outputId": "7cd2ea6d-bbec-4586-b8af-81b46d449133"
      },
      "source": [
        "transformers = make_pipeline(\n",
        "    ce.OrdinalEncoder(), \n",
        "    SimpleImputer(strategy='median')\n",
        ")\n",
        "\n",
        "X_train_transformed = transformers.fit_transform(X_train)\n",
        "X_val_transformed = transformers.transform(X_val)\n",
        "\n",
        "model = RandomForestClassifier(n_estimators=100, random_state=42, n_jobs=-1)\n",
        "model.fit(X_train_transformed, y_train)"
      ],
      "execution_count": null,
      "outputs": [
        {
          "output_type": "execute_result",
          "data": {
            "text/plain": [
              "RandomForestClassifier(bootstrap=True, ccp_alpha=0.0, class_weight=None,\n",
              "                       criterion='gini', max_depth=None, max_features='auto',\n",
              "                       max_leaf_nodes=None, max_samples=None,\n",
              "                       min_impurity_decrease=0.0, min_impurity_split=None,\n",
              "                       min_samples_leaf=1, min_samples_split=2,\n",
              "                       min_weight_fraction_leaf=0.0, n_estimators=100,\n",
              "                       n_jobs=-1, oob_score=False, random_state=42, verbose=0,\n",
              "                       warm_start=False)"
            ]
          },
          "metadata": {
            "tags": []
          },
          "execution_count": 138
        }
      ]
    },
    {
      "cell_type": "code",
      "metadata": {
        "id": "7sKxV13jc5VU",
        "colab_type": "code",
        "colab": {
          "base_uri": "https://localhost:8080/",
          "height": 399
        },
        "outputId": "2754c379-9e4b-44d0-e342-d67d1c2d4f90"
      },
      "source": [
        "import eli5\n",
        "from eli5.sklearn import PermutationImportance\n",
        "\n",
        "permuter = PermutationImportance(\n",
        "    model,\n",
        "    scoring='accuracy',\n",
        "    n_iter=5,\n",
        "    random_state=42\n",
        ")\n",
        "\n",
        "permuter.fit(X_val_transformed, y_val)"
      ],
      "execution_count": null,
      "outputs": [
        {
          "output_type": "execute_result",
          "data": {
            "text/plain": [
              "PermutationImportance(cv='prefit',\n",
              "                      estimator=RandomForestClassifier(bootstrap=True,\n",
              "                                                       ccp_alpha=0.0,\n",
              "                                                       class_weight=None,\n",
              "                                                       criterion='gini',\n",
              "                                                       max_depth=None,\n",
              "                                                       max_features='auto',\n",
              "                                                       max_leaf_nodes=None,\n",
              "                                                       max_samples=None,\n",
              "                                                       min_impurity_decrease=0.0,\n",
              "                                                       min_impurity_split=None,\n",
              "                                                       min_samples_leaf=1,\n",
              "                                                       min_samples_split=2,\n",
              "                                                       min_weight_fraction_leaf=0.0,\n",
              "                                                       n_estimators=100,\n",
              "                                                       n_jobs=-1,\n",
              "                                                       oob_score=False,\n",
              "                                                       random_state=42,\n",
              "                                                       verbose=0,\n",
              "                                                       warm_start=False),\n",
              "                      n_iter=5, random_state=42, refit=True,\n",
              "                      scoring='accuracy')"
            ]
          },
          "metadata": {
            "tags": []
          },
          "execution_count": 139
        }
      ]
    },
    {
      "cell_type": "code",
      "metadata": {
        "id": "OGvjvdDnc_dG",
        "colab_type": "code",
        "colab": {
          "base_uri": "https://localhost:8080/",
          "height": 156
        },
        "outputId": "d5d4dd20-b693-4f11-c114-c4947371672b"
      },
      "source": [
        "eli5.show_weights(\n",
        "    permuter,\n",
        "    top=None,\n",
        "    feature_names=X_test.columns.tolist()\n",
        ")"
      ],
      "execution_count": null,
      "outputs": [
        {
          "output_type": "execute_result",
          "data": {
            "text/html": [
              "\n",
              "    <style>\n",
              "    table.eli5-weights tr:hover {\n",
              "        filter: brightness(85%);\n",
              "    }\n",
              "</style>\n",
              "\n",
              "\n",
              "\n",
              "    \n",
              "\n",
              "    \n",
              "\n",
              "    \n",
              "\n",
              "    \n",
              "\n",
              "    \n",
              "\n",
              "    \n",
              "\n",
              "\n",
              "    \n",
              "\n",
              "    \n",
              "\n",
              "    \n",
              "\n",
              "    \n",
              "\n",
              "    \n",
              "\n",
              "    \n",
              "\n",
              "\n",
              "    \n",
              "\n",
              "    \n",
              "\n",
              "    \n",
              "\n",
              "    \n",
              "\n",
              "    \n",
              "        <table class=\"eli5-weights eli5-feature-importances\" style=\"border-collapse: collapse; border: none; margin-top: 0em; table-layout: auto;\">\n",
              "    <thead>\n",
              "    <tr style=\"border: none;\">\n",
              "        <th style=\"padding: 0 1em 0 0.5em; text-align: right; border: none;\">Weight</th>\n",
              "        <th style=\"padding: 0 0.5em 0 0.5em; text-align: left; border: none;\">Feature</th>\n",
              "    </tr>\n",
              "    </thead>\n",
              "    <tbody>\n",
              "    \n",
              "        <tr style=\"background-color: hsl(120, 100.00%, 80.00%); border: none;\">\n",
              "            <td style=\"padding: 0 1em 0 0.5em; text-align: right; border: none;\">\n",
              "                0.0637\n",
              "                \n",
              "                    &plusmn; 0.0511\n",
              "                \n",
              "            </td>\n",
              "            <td style=\"padding: 0 0.5em 0 0.5em; text-align: left; border: none;\">\n",
              "                BbAvO2.5\n",
              "            </td>\n",
              "        </tr>\n",
              "    \n",
              "        <tr style=\"background-color: hsl(120, 100.00%, 86.09%); border: none;\">\n",
              "            <td style=\"padding: 0 1em 0 0.5em; text-align: right; border: none;\">\n",
              "                0.0379\n",
              "                \n",
              "                    &plusmn; 0.0303\n",
              "                \n",
              "            </td>\n",
              "            <td style=\"padding: 0 0.5em 0 0.5em; text-align: left; border: none;\">\n",
              "                BbAvA\n",
              "            </td>\n",
              "        </tr>\n",
              "    \n",
              "        <tr style=\"background-color: hsl(120, 100.00%, 87.33%); border: none;\">\n",
              "            <td style=\"padding: 0 1em 0 0.5em; text-align: right; border: none;\">\n",
              "                0.0332\n",
              "                \n",
              "                    &plusmn; 0.0452\n",
              "                \n",
              "            </td>\n",
              "            <td style=\"padding: 0 0.5em 0 0.5em; text-align: left; border: none;\">\n",
              "                BbAvH\n",
              "            </td>\n",
              "        </tr>\n",
              "    \n",
              "        <tr style=\"background-color: hsl(120, 100.00%, 89.84%); border: none;\">\n",
              "            <td style=\"padding: 0 1em 0 0.5em; text-align: right; border: none;\">\n",
              "                0.0242\n",
              "                \n",
              "                    &plusmn; 0.0180\n",
              "                \n",
              "            </td>\n",
              "            <td style=\"padding: 0 0.5em 0 0.5em; text-align: left; border: none;\">\n",
              "                Pre-Match PPG (Away)\n",
              "            </td>\n",
              "        </tr>\n",
              "    \n",
              "        <tr style=\"background-color: hsl(120, 100.00%, 96.27%); border: none;\">\n",
              "            <td style=\"padding: 0 1em 0 0.5em; text-align: right; border: none;\">\n",
              "                0.0058\n",
              "                \n",
              "                    &plusmn; 0.0257\n",
              "                \n",
              "            </td>\n",
              "            <td style=\"padding: 0 0.5em 0 0.5em; text-align: left; border: none;\">\n",
              "                BbAvU2.5\n",
              "            </td>\n",
              "        </tr>\n",
              "    \n",
              "        <tr style=\"background-color: hsl(0, 100.00%, 100.00%); border: none;\">\n",
              "            <td style=\"padding: 0 1em 0 0.5em; text-align: right; border: none;\">\n",
              "                0\n",
              "                \n",
              "                    &plusmn; 0.0000\n",
              "                \n",
              "            </td>\n",
              "            <td style=\"padding: 0 0.5em 0 0.5em; text-align: left; border: none;\">\n",
              "                Season\n",
              "            </td>\n",
              "        </tr>\n",
              "    \n",
              "        <tr style=\"background-color: hsl(0, 100.00%, 98.16%); border: none;\">\n",
              "            <td style=\"padding: 0 1em 0 0.5em; text-align: right; border: none;\">\n",
              "                -0.0021\n",
              "                \n",
              "                    &plusmn; 0.0209\n",
              "                \n",
              "            </td>\n",
              "            <td style=\"padding: 0 0.5em 0 0.5em; text-align: left; border: none;\">\n",
              "                Pre-Match PPG (Home)\n",
              "            </td>\n",
              "        </tr>\n",
              "    \n",
              "    \n",
              "    </tbody>\n",
              "</table>\n",
              "    \n",
              "\n",
              "    \n",
              "\n",
              "\n",
              "    \n",
              "\n",
              "    \n",
              "\n",
              "    \n",
              "\n",
              "    \n",
              "\n",
              "    \n",
              "\n",
              "    \n",
              "\n",
              "\n",
              "\n"
            ],
            "text/plain": [
              "<IPython.core.display.HTML object>"
            ]
          },
          "metadata": {
            "tags": []
          },
          "execution_count": 140
        }
      ]
    },
    {
      "cell_type": "code",
      "metadata": {
        "id": "ui-fLNjHdoY9",
        "colab_type": "code",
        "colab": {
          "base_uri": "https://localhost:8080/",
          "height": 69
        },
        "outputId": "a51170ee-4a81-41fb-dff0-cccdcb7fe39d"
      },
      "source": [
        "model3 = make_pipeline(\n",
        "    ce.OrdinalEncoder(),\n",
        "    SimpleImputer(),\n",
        "    LogisticRegression(random_state=42)\n",
        ")\n",
        "\n",
        "model3.fit(X_train, y_train)\n",
        "\n",
        "print('Training Accuracy:', model3.score(X_train, y_train))\n",
        "print('Validation Accuracy:', model3.score(X_val, y_val))\n",
        "print('Test Accuracy:', model3.score(X_test, y_test))\n"
      ],
      "execution_count": 263,
      "outputs": [
        {
          "output_type": "stream",
          "text": [
            "Training Accuracy: 0.5745614035087719\n",
            "Validation Accuracy: 0.5605263157894737\n",
            "Test Accuracy: 0.5710526315789474\n"
          ],
          "name": "stdout"
        }
      ]
    },
    {
      "cell_type": "code",
      "metadata": {
        "id": "IUcqsKMwlWHo",
        "colab_type": "code",
        "colab": {
          "base_uri": "https://localhost:8080/",
          "height": 395
        },
        "outputId": "46bd8214-3618-44cb-e72b-f13803181bb0"
      },
      "source": [
        "#Confusion graph\n",
        "from sklearn.metrics import plot_confusion_matrix, classification_report\n",
        "\n",
        "plt.rcParams['figure.dpi'] = 100\n",
        "plot_confusion_matrix(model3, X_test, y_test, values_format='.0f', xticks_rotation='vertical')"
      ],
      "execution_count": 266,
      "outputs": [
        {
          "output_type": "execute_result",
          "data": {
            "text/plain": [
              "<sklearn.metrics._plot.confusion_matrix.ConfusionMatrixDisplay at 0x7f89ffa482b0>"
            ]
          },
          "metadata": {
            "tags": []
          },
          "execution_count": 266
        },
        {
          "output_type": "display_data",
          "data": {
            "image/png": "[encoded data removed]",
            "text/plain": [
              "<Figure size 600x400 with 2 Axes>"
            ]
          },
          "metadata": {
            "tags": [],
            "needs_background": "light"
          }
        }
      ]
    },
    {
      "cell_type": "code",
      "metadata": {
        "id": "1Of2uLoI_0rz",
        "colab_type": "code",
        "colab": {
          "base_uri": "https://localhost:8080/",
          "height": 413
        },
        "outputId": "0791ca27-d5b8-4e80-b190-f349911b07bf"
      },
      "source": [
        "df1.head()"
      ],
      "execution_count": 166,
      "outputs": [
        {
          "output_type": "execute_result",
          "data": {
            "text/html": [
              "<div>\n",
              "<style scoped>\n",
              "    .dataframe tbody tr th:only-of-type {\n",
              "        vertical-align: middle;\n",
              "    }\n",
              "\n",
              "    .dataframe tbody tr th {\n",
              "        vertical-align: top;\n",
              "    }\n",
              "\n",
              "    .dataframe thead th {\n",
              "        text-align: right;\n",
              "    }\n",
              "</style>\n",
              "<table border=\"1\" class=\"dataframe\">\n",
              "  <thead>\n",
              "    <tr style=\"text-align: right;\">\n",
              "      <th></th>\n",
              "      <th>Season</th>\n",
              "      <th>HomeTeam</th>\n",
              "      <th>AwayTeam</th>\n",
              "      <th>Pre-Match PPG (Home)</th>\n",
              "      <th>Pre-Match PPG (Away)</th>\n",
              "      <th>average_goals_per_match_pre_match</th>\n",
              "      <th>average_corners_per_match_pre_match</th>\n",
              "      <th>stadium_name</th>\n",
              "      <th>Referee</th>\n",
              "      <th>BbAvH</th>\n",
              "      <th>BbAvA</th>\n",
              "      <th>BbAvO2.5</th>\n",
              "      <th>BbAvU2.5</th>\n",
              "      <th>OU25</th>\n",
              "    </tr>\n",
              "  </thead>\n",
              "  <tbody>\n",
              "    <tr>\n",
              "      <th>0</th>\n",
              "      <td>2014</td>\n",
              "      <td>Manchester United</td>\n",
              "      <td>Swansea City</td>\n",
              "      <td>0.0</td>\n",
              "      <td>0.0</td>\n",
              "      <td>0.0</td>\n",
              "      <td>0.0</td>\n",
              "      <td>Old Trafford</td>\n",
              "      <td>M Dean</td>\n",
              "      <td>1.34</td>\n",
              "      <td>9.32</td>\n",
              "      <td>1.71</td>\n",
              "      <td>2.13</td>\n",
              "      <td>1</td>\n",
              "    </tr>\n",
              "    <tr>\n",
              "      <th>1</th>\n",
              "      <td>2014</td>\n",
              "      <td>Leicester City</td>\n",
              "      <td>Everton</td>\n",
              "      <td>0.0</td>\n",
              "      <td>0.0</td>\n",
              "      <td>0.0</td>\n",
              "      <td>0.0</td>\n",
              "      <td>King Power Stadium</td>\n",
              "      <td>M Jones</td>\n",
              "      <td>3.06</td>\n",
              "      <td>2.36</td>\n",
              "      <td>2.00</td>\n",
              "      <td>1.80</td>\n",
              "      <td>1</td>\n",
              "    </tr>\n",
              "    <tr>\n",
              "      <th>2</th>\n",
              "      <td>2014</td>\n",
              "      <td>Stoke City</td>\n",
              "      <td>Aston Villa</td>\n",
              "      <td>0.0</td>\n",
              "      <td>0.0</td>\n",
              "      <td>0.0</td>\n",
              "      <td>0.0</td>\n",
              "      <td>Bet365 Stadium</td>\n",
              "      <td>A Taylor</td>\n",
              "      <td>1.92</td>\n",
              "      <td>4.27</td>\n",
              "      <td>2.31</td>\n",
              "      <td>1.60</td>\n",
              "      <td>0</td>\n",
              "    </tr>\n",
              "    <tr>\n",
              "      <th>3</th>\n",
              "      <td>2014</td>\n",
              "      <td>West Bromwich Albion</td>\n",
              "      <td>Sunderland</td>\n",
              "      <td>0.0</td>\n",
              "      <td>0.0</td>\n",
              "      <td>0.0</td>\n",
              "      <td>0.0</td>\n",
              "      <td>The Hawthorns (West Bromwich)</td>\n",
              "      <td>N Swarbrick</td>\n",
              "      <td>2.23</td>\n",
              "      <td>3.34</td>\n",
              "      <td>2.14</td>\n",
              "      <td>1.70</td>\n",
              "      <td>1</td>\n",
              "    </tr>\n",
              "    <tr>\n",
              "      <th>4</th>\n",
              "      <td>2014</td>\n",
              "      <td>West Ham United</td>\n",
              "      <td>Tottenham Hotspur</td>\n",
              "      <td>0.0</td>\n",
              "      <td>0.0</td>\n",
              "      <td>0.0</td>\n",
              "      <td>0.0</td>\n",
              "      <td>Boleyn Ground (London)</td>\n",
              "      <td>C Foy</td>\n",
              "      <td>3.74</td>\n",
              "      <td>2.03</td>\n",
              "      <td>1.98</td>\n",
              "      <td>1.82</td>\n",
              "      <td>0</td>\n",
              "    </tr>\n",
              "  </tbody>\n",
              "</table>\n",
              "</div>"
            ],
            "text/plain": [
              "  Season              HomeTeam           AwayTeam  Pre-Match PPG (Home)  Pre-Match PPG (Away)  average_goals_per_match_pre_match  average_corners_per_match_pre_match                   stadium_name      Referee  BbAvH  BbAvA  BbAvO2.5  BbAvU2.5  OU25\n",
              "0   2014     Manchester United       Swansea City                   0.0                   0.0                                0.0                                  0.0                   Old Trafford       M Dean   1.34   9.32      1.71      2.13     1\n",
              "1   2014        Leicester City            Everton                   0.0                   0.0                                0.0                                  0.0             King Power Stadium      M Jones   3.06   2.36      2.00      1.80     1\n",
              "2   2014            Stoke City        Aston Villa                   0.0                   0.0                                0.0                                  0.0                 Bet365 Stadium     A Taylor   1.92   4.27      2.31      1.60     0\n",
              "3   2014  West Bromwich Albion         Sunderland                   0.0                   0.0                                0.0                                  0.0  The Hawthorns (West Bromwich)  N Swarbrick   2.23   3.34      2.14      1.70     1\n",
              "4   2014       West Ham United  Tottenham Hotspur                   0.0                   0.0                                0.0                                  0.0         Boleyn Ground (London)        C Foy   3.74   2.03      1.98      1.82     0"
            ]
          },
          "metadata": {
            "tags": []
          },
          "execution_count": 166
        }
      ]
    },
    {
      "cell_type": "code",
      "metadata": {
        "id": "9pqIh7dk_74R",
        "colab_type": "code",
        "colab": {}
      },
      "source": [
        "final = df[['Season', 'HomeTeam', 'AwayTeam', 'BbAvO2.5', 'BbAvU2.5', 'total_goal_count', 'OU25']]\n",
        "final = final.query('Season == \"2018\"')"
      ],
      "execution_count": 267,
      "outputs": []
    },
    {
      "cell_type": "code",
      "metadata": {
        "id": "Uf26Sihfov6N",
        "colab_type": "code",
        "colab": {}
      },
      "source": [
        ""
      ],
      "execution_count": null,
      "outputs": []
    },
    {
      "cell_type": "code",
      "metadata": {
        "id": "DAGR4zZ2DzBv",
        "colab_type": "code",
        "colab": {}
      },
      "source": [
        "y_pred = model3.predict(X_test)\n",
        "class_probabilities = model3.predict_proba(X_test)\n",
        "\n",
        "pred = pd.DataFrame(y_pred, columns=['pred'])\n",
        "prob = pd.DataFrame(class_probabilities, columns=['prob0','prob1' ])\n",
        "\n",
        "final.reset_index(drop=True, inplace=True)\n",
        "pred.reset_index(drop=True, inplace=True)\n",
        "prob.reset_index(drop=True, inplace=True)\n",
        "\n",
        "fin = pd.concat([final, prob, pred], axis=1)\n"
      ],
      "execution_count": 274,
      "outputs": []
    },
    {
      "cell_type": "code",
      "metadata": {
        "id": "5h7_o1dDMSaq",
        "colab_type": "code",
        "colab": {}
      },
      "source": [
        "fin['Correct'] = (fin['OU25'] == fin['pred']).astype(int)\n"
      ],
      "execution_count": 310,
      "outputs": []
    },
    {
      "cell_type": "code",
      "metadata": {
        "id": "2XrdxBF9wAwI",
        "colab_type": "code",
        "colab": {}
      },
      "source": [
        "def a(fin):\n",
        "    if (fin['prob0'] >= 0.55 or fin['prob1'] >= 0.55):\n",
        "        return 1\n",
        "    else:\n",
        "      return 0\n",
        "fin = fin.assign(O55=fin.apply(a, axis=1))"
      ],
      "execution_count": 309,
      "outputs": []
    },
    {
      "cell_type": "code",
      "metadata": {
        "id": "8gmOz8eqB5pq",
        "colab_type": "code",
        "colab": {}
      },
      "source": [
        "#betting on every single match\n",
        "money = []\n",
        "count = 0 \n",
        "\n",
        "for i,j in fin.iterrows():\n",
        "  if fin.loc[i, 'Correct'] == 1:\n",
        "    if fin.loc[i,'OU25'] == 1:\n",
        "      count = (count + (100*fin.loc[i, 'BbAvO2.5'])-100)\n",
        "      money.append(count)\n",
        "    elif fin.loc[i, 'OU25'] == 0:\n",
        "      count = (count + (100*fin.loc[i, 'BbAvU2.5'])-100)\n",
        "      money.append(count)\n",
        "  else:\n",
        "    count = count - 100\n",
        "    money.append(count)\n",
        "    \n",
        "fin.loc[:, 'MONEY'] = pd.Series(money)"
      ],
      "execution_count": 280,
      "outputs": []
    },
    {
      "cell_type": "code",
      "metadata": {
        "id": "QzT0iMGPqHMB",
        "colab_type": "code",
        "colab": {
          "base_uri": "https://localhost:8080/",
          "height": 202
        },
        "outputId": "64b83a84-8780-4d92-d3b1-1962355b36df"
      },
      "source": [
        "fin.head()"
      ],
      "execution_count": 314,
      "outputs": [
        {
          "output_type": "execute_result",
          "data": {
            "text/html": [
              "<div>\n",
              "<style scoped>\n",
              "    .dataframe tbody tr th:only-of-type {\n",
              "        vertical-align: middle;\n",
              "    }\n",
              "\n",
              "    .dataframe tbody tr th {\n",
              "        vertical-align: top;\n",
              "    }\n",
              "\n",
              "    .dataframe thead th {\n",
              "        text-align: right;\n",
              "    }\n",
              "</style>\n",
              "<table border=\"1\" class=\"dataframe\">\n",
              "  <thead>\n",
              "    <tr style=\"text-align: right;\">\n",
              "      <th></th>\n",
              "      <th>Season</th>\n",
              "      <th>HomeTeam</th>\n",
              "      <th>AwayTeam</th>\n",
              "      <th>BbAvO2.5</th>\n",
              "      <th>BbAvU2.5</th>\n",
              "      <th>total_goal_count</th>\n",
              "      <th>OU25</th>\n",
              "      <th>prob0</th>\n",
              "      <th>prob1</th>\n",
              "      <th>pred</th>\n",
              "      <th>Correct</th>\n",
              "      <th>MONEY</th>\n",
              "      <th>MONEY0.55</th>\n",
              "    </tr>\n",
              "  </thead>\n",
              "  <tbody>\n",
              "    <tr>\n",
              "      <th>0</th>\n",
              "      <td>2018</td>\n",
              "      <td>Crystal Palace</td>\n",
              "      <td>Tottenham Hotspur</td>\n",
              "      <td>1.73</td>\n",
              "      <td>2.11</td>\n",
              "      <td>1</td>\n",
              "      <td>0</td>\n",
              "      <td>0.467155</td>\n",
              "      <td>0.532845</td>\n",
              "      <td>1</td>\n",
              "      <td>0</td>\n",
              "      <td>-100.0</td>\n",
              "      <td>0.0</td>\n",
              "    </tr>\n",
              "    <tr>\n",
              "      <th>1</th>\n",
              "      <td>2018</td>\n",
              "      <td>Manchester United</td>\n",
              "      <td>Leicester City</td>\n",
              "      <td>2.03</td>\n",
              "      <td>1.79</td>\n",
              "      <td>3</td>\n",
              "      <td>1</td>\n",
              "      <td>0.556728</td>\n",
              "      <td>0.443272</td>\n",
              "      <td>0</td>\n",
              "      <td>0</td>\n",
              "      <td>-200.0</td>\n",
              "      <td>0.0</td>\n",
              "    </tr>\n",
              "    <tr>\n",
              "      <th>2</th>\n",
              "      <td>2018</td>\n",
              "      <td>Newcastle United</td>\n",
              "      <td>Tottenham Hotspur</td>\n",
              "      <td>2.01</td>\n",
              "      <td>1.81</td>\n",
              "      <td>3</td>\n",
              "      <td>1</td>\n",
              "      <td>0.528495</td>\n",
              "      <td>0.471505</td>\n",
              "      <td>0</td>\n",
              "      <td>0</td>\n",
              "      <td>-300.0</td>\n",
              "      <td>0.0</td>\n",
              "    </tr>\n",
              "    <tr>\n",
              "      <th>3</th>\n",
              "      <td>2018</td>\n",
              "      <td>AFC Bournemouth</td>\n",
              "      <td>Cardiff City</td>\n",
              "      <td>1.98</td>\n",
              "      <td>1.83</td>\n",
              "      <td>2</td>\n",
              "      <td>0</td>\n",
              "      <td>0.538328</td>\n",
              "      <td>0.461672</td>\n",
              "      <td>0</td>\n",
              "      <td>1</td>\n",
              "      <td>-217.0</td>\n",
              "      <td>59.0</td>\n",
              "    </tr>\n",
              "    <tr>\n",
              "      <th>4</th>\n",
              "      <td>2018</td>\n",
              "      <td>Watford</td>\n",
              "      <td>Brighton &amp; Hove Albion</td>\n",
              "      <td>2.35</td>\n",
              "      <td>1.59</td>\n",
              "      <td>2</td>\n",
              "      <td>0</td>\n",
              "      <td>0.642430</td>\n",
              "      <td>0.357570</td>\n",
              "      <td>0</td>\n",
              "      <td>1</td>\n",
              "      <td>-158.0</td>\n",
              "      <td>59.0</td>\n",
              "    </tr>\n",
              "  </tbody>\n",
              "</table>\n",
              "</div>"
            ],
            "text/plain": [
              "  Season           HomeTeam                AwayTeam  BbAvO2.5  BbAvU2.5  total_goal_count  OU25     prob0     prob1  pred  Correct  MONEY  MONEY0.55\n",
              "0   2018     Crystal Palace       Tottenham Hotspur      1.73      2.11                 1     0  0.467155  0.532845     1        0 -100.0        0.0\n",
              "1   2018  Manchester United          Leicester City      2.03      1.79                 3     1  0.556728  0.443272     0        0 -200.0        0.0\n",
              "2   2018   Newcastle United       Tottenham Hotspur      2.01      1.81                 3     1  0.528495  0.471505     0        0 -300.0        0.0\n",
              "3   2018    AFC Bournemouth            Cardiff City      1.98      1.83                 2     0  0.538328  0.461672     0        1 -217.0       59.0\n",
              "4   2018            Watford  Brighton & Hove Albion      2.35      1.59                 2     0  0.642430  0.357570     0        1 -158.0       59.0"
            ]
          },
          "metadata": {
            "tags": []
          },
          "execution_count": 314
        }
      ]
    },
    {
      "cell_type": "code",
      "metadata": {
        "id": "MHvTU_Ebp4wS",
        "colab_type": "code",
        "colab": {}
      },
      "source": [
        "#betting on only 55% Confidence \n",
        "money = []\n",
        "count = 0 \n",
        "\n",
        "for i,j in fin.iterrows():\n",
        "  if fin.loc[i, 'prob0'] >= 0.55 or fin.loc[i, 'prob1'] >= 0.55:\n",
        "    if fin.loc[i, 'Correct'] == 1:\n",
        "      if fin.loc[i,'OU25'] == 1:\n",
        "        count = (count + (100*fin.loc[i, 'BbAvO2.5'])-100)\n",
        "        money.append(count)\n",
        "      elif fin.loc[i, 'OU25'] == 0:\n",
        "        count = (count + (100*fin.loc[i, 'BbAvU2.5'])-100)\n",
        "        money.append(count)\n",
        "    else:\n",
        "      count = count - 100\n",
        "      money.append(count)\n",
        "  else:\n",
        "    money.append(count)\n",
        "    \n",
        "fin.loc[:, 'MONEY0.55'] = pd.Series(money)"
      ],
      "execution_count": 315,
      "outputs": []
    },
    {
      "cell_type": "code",
      "metadata": {
        "id": "RCzeWWBB0JOF",
        "colab_type": "code",
        "colab": {}
      },
      "source": [
        "#betting on only 60% Confidence \n",
        "money = []\n",
        "count = 0 \n",
        "\n",
        "for i,j in fin.iterrows():\n",
        "  if fin.loc[i, 'prob0'] >= 0.6 or fin.loc[i, 'prob1'] >= 0.6:\n",
        "    if fin.loc[i, 'Correct'] == 1:\n",
        "      if fin.loc[i,'OU25'] == 1:\n",
        "        count = (count + (100*fin.loc[i, 'BbAvO2.5'])-100)\n",
        "        money.append(count)\n",
        "      elif fin.loc[i, 'OU25'] == 0:\n",
        "        count = (count + (100*fin.loc[i, 'BbAvU2.5'])-100)\n",
        "        money.append(count)\n",
        "    else:\n",
        "      count = count - 100\n",
        "      money.append(count)\n",
        "  else:\n",
        "    money.append(count)\n",
        "    \n",
        "fin.loc[:, 'MONEY0.6'] = pd.Series(money)"
      ],
      "execution_count": 318,
      "outputs": []
    },
    {
      "cell_type": "code",
      "metadata": {
        "id": "dr_Va_QJ0fY5",
        "colab_type": "code",
        "colab": {}
      },
      "source": [
        "#betting on only 65% Confidence \n",
        "money = []\n",
        "count = 0 \n",
        "\n",
        "for i,j in fin.iterrows():\n",
        "  if fin.loc[i, 'prob0'] >= 0.65 or fin.loc[i, 'prob1'] >= 0.65:\n",
        "    if fin.loc[i, 'Correct'] == 1:\n",
        "      if fin.loc[i,'OU25'] == 1:\n",
        "        count = (count + (100*fin.loc[i, 'BbAvO2.5'])-100)\n",
        "        money.append(count)\n",
        "      elif fin.loc[i, 'OU25'] == 0:\n",
        "        count = (count + (100*fin.loc[i, 'BbAvU2.5'])-100)\n",
        "        money.append(count)\n",
        "    else:\n",
        "      count = count - 100\n",
        "      money.append(count)\n",
        "  else:\n",
        "    money.append(count)\n",
        "    \n",
        "fin.loc[:, 'MONEY0.65'] = pd.Series(money)"
      ],
      "execution_count": 321,
      "outputs": []
    },
    {
      "cell_type": "code",
      "metadata": {
        "id": "4u0GXneu0sek",
        "colab_type": "code",
        "colab": {}
      },
      "source": [
        "#betting on only 70% Confidence \n",
        "money = []\n",
        "count = 0 \n",
        "\n",
        "for i,j in fin.iterrows():\n",
        "  if fin.loc[i, 'prob0'] >= 0.7 or fin.loc[i, 'prob1'] >= 0.7:\n",
        "    if fin.loc[i, 'Correct'] == 1:\n",
        "      if fin.loc[i,'OU25'] == 1:\n",
        "        count = (count + (100*fin.loc[i, 'BbAvO2.5'])-100)\n",
        "        money.append(count)\n",
        "      elif fin.loc[i, 'OU25'] == 0:\n",
        "        count = (count + (100*fin.loc[i, 'BbAvU2.5'])-100)\n",
        "        money.append(count)\n",
        "    else:\n",
        "      count = count - 100\n",
        "      money.append(count)\n",
        "  else:\n",
        "    money.append(count)\n",
        "    \n",
        "fin.loc[:, 'MONEY0.7'] = pd.Series(money)"
      ],
      "execution_count": 323,
      "outputs": []
    },
    {
      "cell_type": "code",
      "metadata": {
        "id": "4rPvghDC02rU",
        "colab_type": "code",
        "colab": {}
      },
      "source": [
        "#betting on only 72.5% Confidence \n",
        "money = []\n",
        "count = 0 \n",
        "\n",
        "for i,j in fin.iterrows():\n",
        "  if fin.loc[i, 'prob0'] >= 0.725 or fin.loc[i, 'prob1'] >= 0.725:\n",
        "    if fin.loc[i, 'Correct'] == 1:\n",
        "      if fin.loc[i,'OU25'] == 1:\n",
        "        count = (count + (100*fin.loc[i, 'BbAvO2.5'])-100)\n",
        "        money.append(count)\n",
        "      elif fin.loc[i, 'OU25'] == 0:\n",
        "        count = (count + (100*fin.loc[i, 'BbAvU2.5'])-100)\n",
        "        money.append(count)\n",
        "    else:\n",
        "      count = count - 100\n",
        "      money.append(count)\n",
        "  else:\n",
        "    money.append(count)\n",
        "    \n",
        "fin.loc[:, 'MONEY0.725'] = pd.Series(money)"
      ],
      "execution_count": 325,
      "outputs": []
    },
    {
      "cell_type": "code",
      "metadata": {
        "id": "M4WcKa0w1FTA",
        "colab_type": "code",
        "colab": {}
      },
      "source": [
        "#betting on only 75% Confidence \n",
        "money = []\n",
        "count = 0 \n",
        "\n",
        "for i,j in fin.iterrows():\n",
        "  if fin.loc[i, 'prob0'] >= 0.75 or fin.loc[i, 'prob1'] >= 0.75:\n",
        "    if fin.loc[i, 'Correct'] == 1:\n",
        "      if fin.loc[i,'OU25'] == 1:\n",
        "        count = (count + (100*fin.loc[i, 'BbAvO2.5'])-100)\n",
        "        money.append(count)\n",
        "      elif fin.loc[i, 'OU25'] == 0:\n",
        "        count = (count + (100*fin.loc[i, 'BbAvU2.5'])-100)\n",
        "        money.append(count)\n",
        "    else:\n",
        "      count = count - 100\n",
        "      money.append(count)\n",
        "  else:\n",
        "    money.append(count)\n",
        "    \n",
        "fin.loc[:, 'MONEY0.75'] = pd.Series(money)"
      ],
      "execution_count": 327,
      "outputs": []
    },
    {
      "cell_type": "code",
      "metadata": {
        "id": "Jvj2My8t1UCZ",
        "colab_type": "code",
        "colab": {}
      },
      "source": [
        "#betting on only 71% Confidence \n",
        "money = []\n",
        "count = 0 \n",
        "\n",
        "for i,j in fin.iterrows():\n",
        "  if fin.loc[i, 'prob0'] >= 0.71 or fin.loc[i, 'prob1'] >= 0.71:\n",
        "    if fin.loc[i, 'Correct'] == 1:\n",
        "      if fin.loc[i,'OU25'] == 1:\n",
        "        count = (count + (100*fin.loc[i, 'BbAvO2.5'])-100)\n",
        "        money.append(count)\n",
        "      elif fin.loc[i, 'OU25'] == 0:\n",
        "        count = (count + (100*fin.loc[i, 'BbAvU2.5'])-100)\n",
        "        money.append(count)\n",
        "    else:\n",
        "      count = count - 100\n",
        "      money.append(count)\n",
        "  else:\n",
        "    money.append(count)\n",
        "    \n",
        "fin.loc[:, 'MONEY0.71'] = pd.Series(money)"
      ],
      "execution_count": 353,
      "outputs": []
    },
    {
      "cell_type": "code",
      "metadata": {
        "id": "w1Lt6gTpdNDw",
        "colab_type": "code",
        "colab": {
          "base_uri": "https://localhost:8080/",
          "height": 326
        },
        "outputId": "00b6fcba-3a49-41dd-a908-5c462f7719e1"
      },
      "source": [
        "fin.tail()"
      ],
      "execution_count": 356,
      "outputs": [
        {
          "output_type": "execute_result",
          "data": {
            "text/html": [
              "<div>\n",
              "<style scoped>\n",
              "    .dataframe tbody tr th:only-of-type {\n",
              "        vertical-align: middle;\n",
              "    }\n",
              "\n",
              "    .dataframe tbody tr th {\n",
              "        vertical-align: top;\n",
              "    }\n",
              "\n",
              "    .dataframe thead th {\n",
              "        text-align: right;\n",
              "    }\n",
              "</style>\n",
              "<table border=\"1\" class=\"dataframe\">\n",
              "  <thead>\n",
              "    <tr style=\"text-align: right;\">\n",
              "      <th></th>\n",
              "      <th>Season</th>\n",
              "      <th>HomeTeam</th>\n",
              "      <th>AwayTeam</th>\n",
              "      <th>BbAvO2.5</th>\n",
              "      <th>BbAvU2.5</th>\n",
              "      <th>total_goal_count</th>\n",
              "      <th>OU25</th>\n",
              "      <th>prob0</th>\n",
              "      <th>prob1</th>\n",
              "      <th>pred</th>\n",
              "      <th>Correct</th>\n",
              "      <th>MONEY</th>\n",
              "      <th>MONEY0.55</th>\n",
              "      <th>MONEY0.6</th>\n",
              "      <th>MONEY0.65</th>\n",
              "      <th>MONEY0.7</th>\n",
              "      <th>MONEY0.725</th>\n",
              "      <th>MONEY0.75</th>\n",
              "      <th>MONEY0.71</th>\n",
              "    </tr>\n",
              "  </thead>\n",
              "  <tbody>\n",
              "    <tr>\n",
              "      <th>375</th>\n",
              "      <td>2018</td>\n",
              "      <td>Manchester United</td>\n",
              "      <td>Cardiff City</td>\n",
              "      <td>1.39</td>\n",
              "      <td>2.95</td>\n",
              "      <td>2</td>\n",
              "      <td>0</td>\n",
              "      <td>0.381728</td>\n",
              "      <td>0.618272</td>\n",
              "      <td>1</td>\n",
              "      <td>0</td>\n",
              "      <td>-1597.0</td>\n",
              "      <td>-2084.0</td>\n",
              "      <td>-1353.0</td>\n",
              "      <td>-655.0</td>\n",
              "      <td>-109.0</td>\n",
              "      <td>-206.0</td>\n",
              "      <td>-200</td>\n",
              "      <td>-156.0</td>\n",
              "    </tr>\n",
              "    <tr>\n",
              "      <th>376</th>\n",
              "      <td>2018</td>\n",
              "      <td>Liverpool</td>\n",
              "      <td>Wolverhampton Wanderers</td>\n",
              "      <td>1.61</td>\n",
              "      <td>2.31</td>\n",
              "      <td>2</td>\n",
              "      <td>0</td>\n",
              "      <td>0.471607</td>\n",
              "      <td>0.528393</td>\n",
              "      <td>1</td>\n",
              "      <td>0</td>\n",
              "      <td>-1697.0</td>\n",
              "      <td>-2084.0</td>\n",
              "      <td>-1353.0</td>\n",
              "      <td>-655.0</td>\n",
              "      <td>-109.0</td>\n",
              "      <td>-206.0</td>\n",
              "      <td>-200</td>\n",
              "      <td>-156.0</td>\n",
              "    </tr>\n",
              "    <tr>\n",
              "      <th>377</th>\n",
              "      <td>2018</td>\n",
              "      <td>Watford</td>\n",
              "      <td>West Ham United</td>\n",
              "      <td>1.55</td>\n",
              "      <td>2.44</td>\n",
              "      <td>5</td>\n",
              "      <td>1</td>\n",
              "      <td>0.429723</td>\n",
              "      <td>0.570277</td>\n",
              "      <td>1</td>\n",
              "      <td>1</td>\n",
              "      <td>-1642.0</td>\n",
              "      <td>-2029.0</td>\n",
              "      <td>-1353.0</td>\n",
              "      <td>-655.0</td>\n",
              "      <td>-109.0</td>\n",
              "      <td>-206.0</td>\n",
              "      <td>-200</td>\n",
              "      <td>-156.0</td>\n",
              "    </tr>\n",
              "    <tr>\n",
              "      <th>378</th>\n",
              "      <td>2018</td>\n",
              "      <td>Fulham</td>\n",
              "      <td>Newcastle United</td>\n",
              "      <td>1.75</td>\n",
              "      <td>2.08</td>\n",
              "      <td>4</td>\n",
              "      <td>1</td>\n",
              "      <td>0.487162</td>\n",
              "      <td>0.512838</td>\n",
              "      <td>1</td>\n",
              "      <td>1</td>\n",
              "      <td>-1567.0</td>\n",
              "      <td>-2029.0</td>\n",
              "      <td>-1353.0</td>\n",
              "      <td>-655.0</td>\n",
              "      <td>-109.0</td>\n",
              "      <td>-206.0</td>\n",
              "      <td>-200</td>\n",
              "      <td>-156.0</td>\n",
              "    </tr>\n",
              "    <tr>\n",
              "      <th>379</th>\n",
              "      <td>2018</td>\n",
              "      <td>Brighton &amp; Hove Albion</td>\n",
              "      <td>Manchester City</td>\n",
              "      <td>1.41</td>\n",
              "      <td>2.86</td>\n",
              "      <td>5</td>\n",
              "      <td>1</td>\n",
              "      <td>0.279528</td>\n",
              "      <td>0.720472</td>\n",
              "      <td>1</td>\n",
              "      <td>1</td>\n",
              "      <td>-1526.0</td>\n",
              "      <td>-1988.0</td>\n",
              "      <td>-1312.0</td>\n",
              "      <td>-614.0</td>\n",
              "      <td>-68.0</td>\n",
              "      <td>-206.0</td>\n",
              "      <td>-200</td>\n",
              "      <td>-115.0</td>\n",
              "    </tr>\n",
              "  </tbody>\n",
              "</table>\n",
              "</div>"
            ],
            "text/plain": [
              "    Season                HomeTeam                 AwayTeam  BbAvO2.5  BbAvU2.5  total_goal_count  OU25     prob0     prob1  pred  Correct   MONEY  MONEY0.55  MONEY0.6  MONEY0.65  MONEY0.7  MONEY0.725  MONEY0.75  MONEY0.71\n",
              "375   2018       Manchester United             Cardiff City      1.39      2.95                 2     0  0.381728  0.618272     1        0 -1597.0    -2084.0   -1353.0     -655.0    -109.0      -206.0       -200     -156.0\n",
              "376   2018               Liverpool  Wolverhampton Wanderers      1.61      2.31                 2     0  0.471607  0.528393     1        0 -1697.0    -2084.0   -1353.0     -655.0    -109.0      -206.0       -200     -156.0\n",
              "377   2018                 Watford          West Ham United      1.55      2.44                 5     1  0.429723  0.570277     1        1 -1642.0    -2029.0   -1353.0     -655.0    -109.0      -206.0       -200     -156.0\n",
              "378   2018                  Fulham         Newcastle United      1.75      2.08                 4     1  0.487162  0.512838     1        1 -1567.0    -2029.0   -1353.0     -655.0    -109.0      -206.0       -200     -156.0\n",
              "379   2018  Brighton & Hove Albion          Manchester City      1.41      2.86                 5     1  0.279528  0.720472     1        1 -1526.0    -1988.0   -1312.0     -614.0     -68.0      -206.0       -200     -115.0"
            ]
          },
          "metadata": {
            "tags": []
          },
          "execution_count": 356
        }
      ]
    }
  ]
}